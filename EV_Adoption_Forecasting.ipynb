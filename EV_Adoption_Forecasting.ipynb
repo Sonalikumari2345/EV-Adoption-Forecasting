{
 "cells": [
  {
   "cell_type": "markdown",
   "id": "8e2d7968-d033-4a97-9c6a-09b741343651",
   "metadata": {},
   "source": [
    "# EV Adoption Forecasting"
   ]
  },
  {
   "cell_type": "markdown",
   "id": "aa7fb931-aede-4fa7-b6b0-6097b3107c54",
   "metadata": {},
   "source": [
    "#### As electric vehicle (EV) adoption surges, urban planners need to anticipate infrastructure needs—especially charging stations. Inadequate planning can lead to bottlenecks, impacting user satisfaction and hindering sustainability goals. "
   ]
  },
  {
   "cell_type": "markdown",
   "id": "6d8c4852-6d24-4192-8ddc-dd0c4d7e3475",
   "metadata": {},
   "source": [
    "#### Problem Statement: Using the electric vehicle dataset (which includes information on EV populations, vehicle types, and possibly historical charging usage), create a model to forecast future EV adoption. For example, predict the number of electric vehicles in upcoming years based on the trends in the data."
   ]
  },
  {
   "cell_type": "markdown",
   "id": "7b7f0eed-65f6-4fb0-a42b-8fd513070c4b",
   "metadata": {},
   "source": [
    "#### Goal: Build a regression model that forecasts future EV adoption demand based on historical trends in EV growth, types of vehicles, and regional data."
   ]
  },
  {
   "cell_type": "markdown",
   "id": "9165879a-3956-4e75-94a4-37521e8966e0",
   "metadata": {},
   "source": [
    "#### Dataset: This dataset shows the number of vehicles that were registered by Washington State Department of Licensing (DOL) each month. The data is separated by county for passenger vehicles and trucks."
   ]
  },
  {
   "cell_type": "markdown",
   "id": "267b6c08-e637-4d99-b8a5-dee74e6fec51",
   "metadata": {},
   "source": [
    "Date: Counts of registered vehicles are taken on this day (the end of this month). - 2017-01-31 2024-02-29\n",
    "County: This is the geographic region of a state that a vehicle's owner is listed to reside within. Vehicles registered in Washington\n",
    "State: This is the geographic region of the country associated with the record. These addresses may be located in other\n",
    "Vehicle Primary Use: This describes the primary intended use of the vehicle.(Passenger-83%, Truck-17%)\n",
    "Battery Electric Vehicles (BEVs): The count of vehicles that are known to be propelled solely by an energy derived from an onboard electric battery.\n",
    "Plug-In Hybrid Electric Vehicles (PHEVs): The count of vehicles that are known to be propelled from energy partially sourced from an onboard electric battery\n",
    "Electric Vehicle (EV) Total: The sum of Battery Electric Vehicles (BEVs) and Plug-in Hybrid Electric Vehicles (PHEVs).\n",
    "Non-Electric Vehicle Total: The count of vehicles that are not electric vehicles.\n",
    "Total Vehicles: All powered vehicles registered in the county. This includes electric vehicles.\n",
    "Percent Electric Vehicles: Comparison of electric vehicles versus their non-electric counterparts."
   ]
  },
  {
   "cell_type": "markdown",
   "id": "34b7e6d5-ab7f-4878-84d5-c1f27b831450",
   "metadata": {},
   "source": [
    "##### Dataset Link: https://www.kaggle.com/datasets/sahirmaharajj/electric-vehicle-population-size-2024/data"
   ]
  },
  {
   "cell_type": "markdown",
   "id": "1cee618a-7e64-4653-a84e-707e9086971b",
   "metadata": {},
   "source": [
    "##### Date: Counts of registered vehicles are taken on this day (the end of this month). - 2017-01-31 2024-02-29\r",
    "##### \n",
    "County: This is the geographic region of a state that a vehicle's owner is listed to reside within. Vehicles registered in Washington##### \r\n",
    "State: This is the geographic region of the country associated with the record. These addresses may be located in othe##### r\r\n",
    "Vehicle Primary Use: This describes the primary intended use of the vehicle.(Passenger-83%, Truck-17##### %)\r\n",
    "Battery Electric Vehicles (BEVs): The count of vehicles that are known to be propelled solely by an energy derived from an onboard electric batte##### ry.\r\n",
    "Plug-In Hybrid Electric Vehicles (PHEVs): The count of vehicles that are known to be propelled from energy partially sourced from an onboard electric bat##### tery\r\n",
    "Electric Vehicle (EV) Total: The sum of Battery Electric Vehicles (BEVs) and Plug-in Hybrid Electric Vehicles (PH##### EVs).\r\n",
    "Non-Electric Vehicle Total: The count of vehicles that are not electric veh##### icles.\r\n",
    "Total Vehicles: All powered vehicles registered in the county. This includes electric ve##### hicles.\r\n",
    "Percent Electric Vehicles: Comparison of electric vehicles versus their non-electric counterparts."
   ]
  },
  {
   "cell_type": "markdown",
   "id": "b2044c49-7e71-4f10-a992-03edce87b87e",
   "metadata": {},
   "source": [
    "#### Import Required Libraries"
   ]
  },
  {
   "cell_type": "markdown",
   "id": "de7a73d8-12fc-4470-9165-3daedc32f66d",
   "metadata": {},
   "source": [
    "### pip install pandas numpy matplotlib seaborn scikit-learn # global env"
   ]
  },
  {
   "cell_type": "code",
   "execution_count": 10,
   "id": "a10f198b-ecd4-4155-877e-04c95f927f3e",
   "metadata": {},
   "outputs": [],
   "source": [
    "import joblib\n",
    "import numpy as np\n",
    "import pandas as pd\n",
    "import seaborn as sns\n",
    "import matplotlib.pyplot as plt\n",
    "from sklearn.preprocessing import LabelEncoder\n",
    "from sklearn.ensemble import RandomForestRegressor\n",
    "from sklearn.model_selection import train_test_split\n",
    "from sklearn.model_selection import RandomizedSearchCV\n",
    "from sklearn.metrics import mean_absolute_error, mean_squared_error, r2_score"
   ]
  },
  {
   "cell_type": "markdown",
   "id": "1dfd94bf-3950-402f-8f22-7bdcf80de30f",
   "metadata": {},
   "source": [
    "### Load the Dataset"
   ]
  },
  {
   "cell_type": "code",
   "execution_count": 12,
   "id": "6a998111-c77e-42ab-9238-cdc8cdf76499",
   "metadata": {},
   "outputs": [],
   "source": [
    "# Load data\n",
    "df = pd.read_csv(\"Electric_Vehicle_Population_By_County.csv\")"
   ]
  },
  {
   "cell_type": "markdown",
   "id": "81447584-c733-4efc-82ec-41647d182883",
   "metadata": {},
   "source": [
    "### Explore and Understand the Data"
   ]
  },
  {
   "cell_type": "code",
   "execution_count": 14,
   "id": "42c1cb2a-30a7-4485-a155-f5d7360c0bef",
   "metadata": {},
   "outputs": [
    {
     "data": {
      "text/html": [
       "<div>\n",
       "<style scoped>\n",
       "    .dataframe tbody tr th:only-of-type {\n",
       "        vertical-align: middle;\n",
       "    }\n",
       "\n",
       "    .dataframe tbody tr th {\n",
       "        vertical-align: top;\n",
       "    }\n",
       "\n",
       "    .dataframe thead th {\n",
       "        text-align: right;\n",
       "    }\n",
       "</style>\n",
       "<table border=\"1\" class=\"dataframe\">\n",
       "  <thead>\n",
       "    <tr style=\"text-align: right;\">\n",
       "      <th></th>\n",
       "      <th>Date</th>\n",
       "      <th>County</th>\n",
       "      <th>State</th>\n",
       "      <th>Vehicle Primary Use</th>\n",
       "      <th>Battery Electric Vehicles (BEVs)</th>\n",
       "      <th>Plug-In Hybrid Electric Vehicles (PHEVs)</th>\n",
       "      <th>Electric Vehicle (EV) Total</th>\n",
       "      <th>Non-Electric Vehicle Total</th>\n",
       "      <th>Total Vehicles</th>\n",
       "      <th>Percent Electric Vehicles</th>\n",
       "    </tr>\n",
       "  </thead>\n",
       "  <tbody>\n",
       "    <tr>\n",
       "      <th>0</th>\n",
       "      <td>September 30 2022</td>\n",
       "      <td>Riverside</td>\n",
       "      <td>CA</td>\n",
       "      <td>Passenger</td>\n",
       "      <td>7</td>\n",
       "      <td>0</td>\n",
       "      <td>7</td>\n",
       "      <td>460</td>\n",
       "      <td>467</td>\n",
       "      <td>1.50</td>\n",
       "    </tr>\n",
       "    <tr>\n",
       "      <th>1</th>\n",
       "      <td>December 31 2022</td>\n",
       "      <td>Prince William</td>\n",
       "      <td>VA</td>\n",
       "      <td>Passenger</td>\n",
       "      <td>1</td>\n",
       "      <td>2</td>\n",
       "      <td>3</td>\n",
       "      <td>188</td>\n",
       "      <td>191</td>\n",
       "      <td>1.57</td>\n",
       "    </tr>\n",
       "    <tr>\n",
       "      <th>2</th>\n",
       "      <td>January 31 2020</td>\n",
       "      <td>Dakota</td>\n",
       "      <td>MN</td>\n",
       "      <td>Passenger</td>\n",
       "      <td>0</td>\n",
       "      <td>1</td>\n",
       "      <td>1</td>\n",
       "      <td>32</td>\n",
       "      <td>33</td>\n",
       "      <td>3.03</td>\n",
       "    </tr>\n",
       "    <tr>\n",
       "      <th>3</th>\n",
       "      <td>June 30 2022</td>\n",
       "      <td>Ferry</td>\n",
       "      <td>WA</td>\n",
       "      <td>Truck</td>\n",
       "      <td>0</td>\n",
       "      <td>0</td>\n",
       "      <td>0</td>\n",
       "      <td>3,575</td>\n",
       "      <td>3,575</td>\n",
       "      <td>0.00</td>\n",
       "    </tr>\n",
       "    <tr>\n",
       "      <th>4</th>\n",
       "      <td>July 31 2021</td>\n",
       "      <td>Douglas</td>\n",
       "      <td>CO</td>\n",
       "      <td>Passenger</td>\n",
       "      <td>0</td>\n",
       "      <td>1</td>\n",
       "      <td>1</td>\n",
       "      <td>83</td>\n",
       "      <td>84</td>\n",
       "      <td>1.19</td>\n",
       "    </tr>\n",
       "  </tbody>\n",
       "</table>\n",
       "</div>"
      ],
      "text/plain": [
       "                Date          County State Vehicle Primary Use  \\\n",
       "0  September 30 2022       Riverside    CA           Passenger   \n",
       "1   December 31 2022  Prince William    VA           Passenger   \n",
       "2    January 31 2020          Dakota    MN           Passenger   \n",
       "3       June 30 2022           Ferry    WA               Truck   \n",
       "4       July 31 2021         Douglas    CO           Passenger   \n",
       "\n",
       "  Battery Electric Vehicles (BEVs) Plug-In Hybrid Electric Vehicles (PHEVs)  \\\n",
       "0                                7                                        0   \n",
       "1                                1                                        2   \n",
       "2                                0                                        1   \n",
       "3                                0                                        0   \n",
       "4                                0                                        1   \n",
       "\n",
       "  Electric Vehicle (EV) Total Non-Electric Vehicle Total Total Vehicles  \\\n",
       "0                           7                        460            467   \n",
       "1                           3                        188            191   \n",
       "2                           1                         32             33   \n",
       "3                           0                      3,575          3,575   \n",
       "4                           1                         83             84   \n",
       "\n",
       "   Percent Electric Vehicles  \n",
       "0                       1.50  \n",
       "1                       1.57  \n",
       "2                       3.03  \n",
       "3                       0.00  \n",
       "4                       1.19  "
      ]
     },
     "execution_count": 14,
     "metadata": {},
     "output_type": "execute_result"
    }
   ],
   "source": [
    "df.head() #top 5 rows"
   ]
  },
  {
   "cell_type": "code",
   "execution_count": 15,
   "id": "6bc99a7e-54d8-4e01-9f91-69b68cfd8c69",
   "metadata": {},
   "outputs": [
    {
     "data": {
      "text/plain": [
       "(20819, 10)"
      ]
     },
     "execution_count": 15,
     "metadata": {},
     "output_type": "execute_result"
    }
   ],
   "source": [
    "# no of rows and cols\n",
    "df.shape"
   ]
  },
  {
   "cell_type": "code",
   "execution_count": 16,
   "id": "d4933744-a803-4a6f-89c5-f530fea8c03d",
   "metadata": {},
   "outputs": [
    {
     "name": "stdout",
     "output_type": "stream",
     "text": [
      "<class 'pandas.core.frame.DataFrame'>\n",
      "RangeIndex: 20819 entries, 0 to 20818\n",
      "Data columns (total 10 columns):\n",
      " #   Column                                    Non-Null Count  Dtype  \n",
      "---  ------                                    --------------  -----  \n",
      " 0   Date                                      20819 non-null  object \n",
      " 1   County                                    20733 non-null  object \n",
      " 2   State                                     20733 non-null  object \n",
      " 3   Vehicle Primary Use                       20819 non-null  object \n",
      " 4   Battery Electric Vehicles (BEVs)          20819 non-null  object \n",
      " 5   Plug-In Hybrid Electric Vehicles (PHEVs)  20819 non-null  object \n",
      " 6   Electric Vehicle (EV) Total               20819 non-null  object \n",
      " 7   Non-Electric Vehicle Total                20819 non-null  object \n",
      " 8   Total Vehicles                            20819 non-null  object \n",
      " 9   Percent Electric Vehicles                 20819 non-null  float64\n",
      "dtypes: float64(1), object(9)\n",
      "memory usage: 1.6+ MB\n"
     ]
    }
   ],
   "source": [
    "# Data Types, class and memory alloc\n",
    "df.info()"
   ]
  },
  {
   "cell_type": "markdown",
   "id": "b6975101-3745-4657-afc3-ae5a66e3ab88",
   "metadata": {},
   "source": [
    "##### As we could see, only Percent Eletric Vehicles is numeric."
   ]
  },
  {
   "cell_type": "code",
   "execution_count": 18,
   "id": "1928d501-f555-4d5c-9301-6ad9230c9df6",
   "metadata": {},
   "outputs": [
    {
     "data": {
      "text/plain": [
       "Date                                         0\n",
       "County                                      86\n",
       "State                                       86\n",
       "Vehicle Primary Use                          0\n",
       "Battery Electric Vehicles (BEVs)             0\n",
       "Plug-In Hybrid Electric Vehicles (PHEVs)     0\n",
       "Electric Vehicle (EV) Total                  0\n",
       "Non-Electric Vehicle Total                   0\n",
       "Total Vehicles                               0\n",
       "Percent Electric Vehicles                    0\n",
       "dtype: int64"
      ]
     },
     "execution_count": 18,
     "metadata": {},
     "output_type": "execute_result"
    }
   ],
   "source": [
    "df.isnull().sum()"
   ]
  },
  {
   "cell_type": "markdown",
   "id": "514407fe-7b26-4c0b-9ac8-c62950e50eed",
   "metadata": {},
   "source": [
    "##### Missing values in County and State."
   ]
  },
  {
   "cell_type": "markdown",
   "id": "1c69c758-f045-44db-bf81-5999f22e6093",
   "metadata": {},
   "source": [
    "##### check if any column contains outliers"
   ]
  },
  {
   "cell_type": "code",
   "execution_count": 21,
   "id": "70f0aa71-d566-41d6-adef-77bd54a54e09",
   "metadata": {},
   "outputs": [
    {
     "name": "stdout",
     "output_type": "stream",
     "text": [
      "lower_bound: -3.5174999999999996\n",
      "upper_bound: 6.9025\n",
      "Number of outliers in 'Percent Electric Vehicles': 2476\n"
     ]
    }
   ],
   "source": [
    "# Compute Q1 and Q3\n",
    "Q1 = df['Percent Electric Vehicles'].quantile(0.25)\n",
    "Q3 = df['Percent Electric Vehicles'].quantile(0.75)\n",
    "IQR = Q3 - Q1\n",
    "\n",
    "# Define outlier boundaries\n",
    "lower_bound = Q1 - 1.5 * IQR\n",
    "upper_bound = Q3 + 1.5 * IQR\n",
    "print('lower_bound:', lower_bound)\n",
    "print('upper_bound:', upper_bound)\n",
    "\n",
    "# Identify outliers\n",
    "outliers = df[(df['Percent Electric Vehicles'] < lower_bound) | (df['Percent Electric Vehicles'] > upper_bound)]\n",
    "print(\"Number of outliers in 'Percent Electric Vehicles':\", outliers.shape[0])"
   ]
  },
  {
   "cell_type": "markdown",
   "id": "de3c274a-df4c-4ebc-905b-3266ac715b59",
   "metadata": {},
   "source": [
    "### Data Preprocessing"
   ]
  },
  {
   "cell_type": "code",
   "execution_count": 23,
   "id": "e0706664-177c-4044-8e65-54e604379fd1",
   "metadata": {},
   "outputs": [
    {
     "name": "stdout",
     "output_type": "stream",
     "text": [
      "Missing after fill:\n",
      "County    0\n",
      "State     0\n",
      "dtype: int64\n"
     ]
    },
    {
     "data": {
      "text/html": [
       "<div>\n",
       "<style scoped>\n",
       "    .dataframe tbody tr th:only-of-type {\n",
       "        vertical-align: middle;\n",
       "    }\n",
       "\n",
       "    .dataframe tbody tr th {\n",
       "        vertical-align: top;\n",
       "    }\n",
       "\n",
       "    .dataframe thead th {\n",
       "        text-align: right;\n",
       "    }\n",
       "</style>\n",
       "<table border=\"1\" class=\"dataframe\">\n",
       "  <thead>\n",
       "    <tr style=\"text-align: right;\">\n",
       "      <th></th>\n",
       "      <th>Date</th>\n",
       "      <th>County</th>\n",
       "      <th>State</th>\n",
       "      <th>Vehicle Primary Use</th>\n",
       "      <th>Battery Electric Vehicles (BEVs)</th>\n",
       "      <th>Plug-In Hybrid Electric Vehicles (PHEVs)</th>\n",
       "      <th>Electric Vehicle (EV) Total</th>\n",
       "      <th>Non-Electric Vehicle Total</th>\n",
       "      <th>Total Vehicles</th>\n",
       "      <th>Percent Electric Vehicles</th>\n",
       "    </tr>\n",
       "  </thead>\n",
       "  <tbody>\n",
       "    <tr>\n",
       "      <th>0</th>\n",
       "      <td>2022-09-30</td>\n",
       "      <td>Riverside</td>\n",
       "      <td>CA</td>\n",
       "      <td>Passenger</td>\n",
       "      <td>7</td>\n",
       "      <td>0</td>\n",
       "      <td>7</td>\n",
       "      <td>460</td>\n",
       "      <td>467</td>\n",
       "      <td>1.50</td>\n",
       "    </tr>\n",
       "    <tr>\n",
       "      <th>1</th>\n",
       "      <td>2022-12-31</td>\n",
       "      <td>Prince William</td>\n",
       "      <td>VA</td>\n",
       "      <td>Passenger</td>\n",
       "      <td>1</td>\n",
       "      <td>2</td>\n",
       "      <td>3</td>\n",
       "      <td>188</td>\n",
       "      <td>191</td>\n",
       "      <td>1.57</td>\n",
       "    </tr>\n",
       "    <tr>\n",
       "      <th>2</th>\n",
       "      <td>2020-01-31</td>\n",
       "      <td>Dakota</td>\n",
       "      <td>MN</td>\n",
       "      <td>Passenger</td>\n",
       "      <td>0</td>\n",
       "      <td>1</td>\n",
       "      <td>1</td>\n",
       "      <td>32</td>\n",
       "      <td>33</td>\n",
       "      <td>3.03</td>\n",
       "    </tr>\n",
       "    <tr>\n",
       "      <th>3</th>\n",
       "      <td>2022-06-30</td>\n",
       "      <td>Ferry</td>\n",
       "      <td>WA</td>\n",
       "      <td>Truck</td>\n",
       "      <td>0</td>\n",
       "      <td>0</td>\n",
       "      <td>0</td>\n",
       "      <td>3,575</td>\n",
       "      <td>3,575</td>\n",
       "      <td>0.00</td>\n",
       "    </tr>\n",
       "    <tr>\n",
       "      <th>4</th>\n",
       "      <td>2021-07-31</td>\n",
       "      <td>Douglas</td>\n",
       "      <td>CO</td>\n",
       "      <td>Passenger</td>\n",
       "      <td>0</td>\n",
       "      <td>1</td>\n",
       "      <td>1</td>\n",
       "      <td>83</td>\n",
       "      <td>84</td>\n",
       "      <td>1.19</td>\n",
       "    </tr>\n",
       "  </tbody>\n",
       "</table>\n",
       "</div>"
      ],
      "text/plain": [
       "        Date          County State Vehicle Primary Use  \\\n",
       "0 2022-09-30       Riverside    CA           Passenger   \n",
       "1 2022-12-31  Prince William    VA           Passenger   \n",
       "2 2020-01-31          Dakota    MN           Passenger   \n",
       "3 2022-06-30           Ferry    WA               Truck   \n",
       "4 2021-07-31         Douglas    CO           Passenger   \n",
       "\n",
       "  Battery Electric Vehicles (BEVs) Plug-In Hybrid Electric Vehicles (PHEVs)  \\\n",
       "0                                7                                        0   \n",
       "1                                1                                        2   \n",
       "2                                0                                        1   \n",
       "3                                0                                        0   \n",
       "4                                0                                        1   \n",
       "\n",
       "  Electric Vehicle (EV) Total Non-Electric Vehicle Total Total Vehicles  \\\n",
       "0                           7                        460            467   \n",
       "1                           3                        188            191   \n",
       "2                           1                         32             33   \n",
       "3                           0                      3,575          3,575   \n",
       "4                           1                         83             84   \n",
       "\n",
       "   Percent Electric Vehicles  \n",
       "0                       1.50  \n",
       "1                       1.57  \n",
       "2                       3.03  \n",
       "3                       0.00  \n",
       "4                       1.19  "
      ]
     },
     "execution_count": 23,
     "metadata": {},
     "output_type": "execute_result"
    }
   ],
   "source": [
    "# Basic Data Cleaning \n",
    "# Converts the \"Date\" column to actual datetime objects\n",
    "df['Date'] = pd.to_datetime(df['Date'], errors='coerce')\n",
    "\n",
    "# Removes rows where \"Date\" conversion failed\n",
    "df = df[df['Date'].notnull()]\n",
    "\n",
    "# Removes rows where the target (EV Total) is missing\n",
    "df = df[df['Electric Vehicle (EV) Total'].notnull()]\n",
    "\n",
    "# Fill missing values\n",
    "df['County'] = df['County'].fillna('Unknown')\n",
    "df['State'] = df['State'].fillna('Unknown')\n",
    "\n",
    "# Confirm remaining nulls\n",
    "print(\"Missing after fill:\")\n",
    "print(df[['County', 'State']].isnull().sum())\n",
    "\n",
    "df.head()"
   ]
  },
  {
   "cell_type": "markdown",
   "id": "b8151677-42a9-4115-9308-42cdba603605",
   "metadata": {},
   "source": [
    "##### Remove Outliers: Cap the values to the IQR bounds"
   ]
  },
  {
   "cell_type": "code",
   "execution_count": 25,
   "id": "167fc05b-aec8-4bfe-8cca-9d395f6e0494",
   "metadata": {},
   "outputs": [
    {
     "name": "stdout",
     "output_type": "stream",
     "text": [
      "Number of outliers in 'Percent Electric Vehicles': 0\n"
     ]
    }
   ],
   "source": [
    "# Cap the outliers - it keeps all the data while reducing the skew from extreme values.\n",
    "\n",
    "df['Percent Electric Vehicles'] = np.where(df['Percent Electric Vehicles'] > upper_bound, upper_bound,\n",
    "                                 np.where(df['Percent Electric Vehicles'] < lower_bound, lower_bound, df['Percent Electric Vehicles']))\n",
    "\n",
    "# Identify outliers\n",
    "outliers = df[(df['Percent Electric Vehicles'] < lower_bound) | (df['Percent Electric Vehicles'] > upper_bound)]\n",
    "print(\"Number of outliers in 'Percent Electric Vehicles':\", outliers.shape[0])"
   ]
  },
  {
   "cell_type": "code",
   "execution_count": null,
   "id": "eaa5c285-4831-4db9-a42e-819bf3ac40c2",
   "metadata": {},
   "outputs": [],
   "source": []
  }
 ],
 "metadata": {
  "kernelspec": {
   "display_name": "Python 3 (ipykernel)",
   "language": "python",
   "name": "python3"
  },
  "language_info": {
   "codemirror_mode": {
    "name": "ipython",
    "version": 3
   },
   "file_extension": ".py",
   "mimetype": "text/x-python",
   "name": "python",
   "nbconvert_exporter": "python",
   "pygments_lexer": "ipython3",
   "version": "3.12.4"
  }
 },
 "nbformat": 4,
 "nbformat_minor": 5
}
